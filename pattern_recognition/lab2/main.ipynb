{
 "cells": [
  {
   "cell_type": "markdown",
   "metadata": {},
   "source": [
    "# Даалгавар 6"
   ]
  },
  {
   "cell_type": "code",
   "execution_count": null,
   "metadata": {},
   "outputs": [],
   "source": [
    "# Даалгавар 6\n",
    "import cv2\n",
    "import matplotlib.pyplot as plt\n",
    "\n",
    "img1 = cv2.imread('chap3/Fig0320(4)(bottom_left).tif', 0)\n",
    "img2 = cv2.imread('chap3/Fig0320(1)(top_left).tif', 0)\n",
    "img3 = cv2.imread('chap3/Fig0320(2)(2nd_from_top).tif', 0)\n",
    "img4 = cv2.imread('chap3/Fig0320(3)(third_from_top).tif', 0)\n",
    "\n",
    "equalized_img1 = cv2.equalizeHist(img1)\n",
    "equalized_img2 = cv2.equalizeHist(img2)\n",
    "equalized_img3 = cv2.equalizeHist(img3)\n",
    "equalized_img4 = cv2.equalizeHist(img4)\n",
    "\n",
    "fig, axs = plt.subplots(4, 2, figsize=(12, 16))\n",
    "\n",
    "axs[0, 0].imshow(img1, cmap='gray')\n",
    "axs[0, 0].set_title('Image 1')\n",
    "axs[1, 0].imshow(img2, cmap='gray')\n",
    "axs[1, 0].set_title('Image 2')\n",
    "axs[2, 0].imshow(img3, cmap='gray')\n",
    "axs[2, 0].set_title('Image 3')\n",
    "axs[3, 0].imshow(img4, cmap='gray')\n",
    "axs[3, 0].set_title('Image 4')\n",
    "\n",
    "axs[0, 1].hist(img1.ravel(), 256, [0, 256], color='r')\n",
    "axs[0, 1].set_title('Histogram of Image 1')\n",
    "axs[1, 1].hist(img2.ravel(), 256, [0, 256], color='r')\n",
    "axs[1, 1].set_title('Histogram of Image 2')\n",
    "axs[2, 1].hist(img3.ravel(), 256, [0, 256], color='r')\n",
    "axs[2, 1].set_title('Histogram of Image 3')\n",
    "axs[3, 1].hist(img4.ravel(), 256, [0, 256], color='r')\n",
    "axs[3, 1].set_title('Histogram of Image 4')\n",
    "\n",
    "fig2, axs2 = plt.subplots(4, 2, figsize=(12, 16))\n",
    "\n",
    "axs2[0, 0].imshow(equalized_img1, cmap='gray')\n",
    "axs2[0, 0].set_title('Equalized Image 1')\n",
    "axs2[1, 0].imshow(equalized_img2, cmap='gray')\n",
    "axs2[1, 0].set_title('Equalized Image 2')\n",
    "axs2[2, 0].imshow(equalized_img3, cmap='gray')\n",
    "axs2[2, 0].set_title('Equalized Image 3')\n",
    "axs2[3, 0].imshow(equalized_img4, cmap='gray')\n",
    "axs2[3, 0].set_title('Equalized Image 4')\n",
    "\n",
    "axs2[0, 1].hist(equalized_img1.ravel(), 256, [0, 256], color = 'b')\n",
    "axs2[0, 1].set_title('Histogram of Equalized 1')\n",
    "axs2[1, 1].hist(equalized_img2.ravel(), 256, [0, 256], color = 'b')\n",
    "axs2[1, 1].set_title('Histogram of Equalized 2')\n",
    "axs2[2, 1].hist(equalized_img3.ravel(), 256, [0, 256], color = 'b')\n",
    "axs2[2, 1].set_title('Histogram of Equalized 3')\n",
    "axs2[3, 1].hist(equalized_img4.ravel(), 256, [0, 256], color = 'b')\n",
    "axs2[3, 1].set_title('Histogram of Equalized 4')"
   ]
  }
 ],
 "metadata": {
  "kernelspec": {
   "display_name": ".venv",
   "language": "python",
   "name": "python3"
  },
  "language_info": {
   "name": "python",
   "version": "3.11.5"
  },
  "orig_nbformat": 4
 },
 "nbformat": 4,
 "nbformat_minor": 2
}
